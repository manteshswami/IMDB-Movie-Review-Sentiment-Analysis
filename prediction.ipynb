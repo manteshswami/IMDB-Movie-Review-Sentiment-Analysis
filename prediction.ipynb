{
 "cells": [
  {
   "cell_type": "code",
   "execution_count": 1,
   "metadata": {},
   "outputs": [],
   "source": [
    "# Step 1: Import Libraries and Load the Model\n",
    "import numpy as np\n",
    "import tensorflow as tf\n",
    "from tensorflow.keras.datasets import imdb\n",
    "from tensorflow.keras.preprocessing import sequence\n",
    "from tensorflow.keras.models import load_model"
   ]
  },
  {
   "cell_type": "code",
   "execution_count": 2,
   "metadata": {},
   "outputs": [],
   "source": [
    "\n",
    "# Load the IMDB dataset word index\n",
    "word_index = imdb.get_word_index()\n",
    "reverse_word_index = {value: key for key, value in word_index.items()}"
   ]
  },
  {
   "cell_type": "code",
   "execution_count": 3,
   "metadata": {},
   "outputs": [
    {
     "name": "stderr",
     "output_type": "stream",
     "text": [
      "WARNING:absl:Compiled the loaded model, but the compiled metrics have yet to be built. `model.compile_metrics` will be empty until you train or evaluate the model.\n"
     ]
    },
    {
     "data": {
      "text/html": [
       "<pre style=\"white-space:pre;overflow-x:auto;line-height:normal;font-family:Menlo,'DejaVu Sans Mono',consolas,'Courier New',monospace\"><span style=\"font-weight: bold\">Model: \"sequential\"</span>\n",
       "</pre>\n"
      ],
      "text/plain": [
       "\u001b[1mModel: \"sequential\"\u001b[0m\n"
      ]
     },
     "metadata": {},
     "output_type": "display_data"
    },
    {
     "data": {
      "text/html": [
       "<pre style=\"white-space:pre;overflow-x:auto;line-height:normal;font-family:Menlo,'DejaVu Sans Mono',consolas,'Courier New',monospace\">┏━━━━━━━━━━━━━━━━━━━━━━━━━━━━━━━━━┳━━━━━━━━━━━━━━━━━━━━━━━━┳━━━━━━━━━━━━━━━┓\n",
       "┃<span style=\"font-weight: bold\"> Layer (type)                    </span>┃<span style=\"font-weight: bold\"> Output Shape           </span>┃<span style=\"font-weight: bold\">       Param # </span>┃\n",
       "┡━━━━━━━━━━━━━━━━━━━━━━━━━━━━━━━━━╇━━━━━━━━━━━━━━━━━━━━━━━━╇━━━━━━━━━━━━━━━┩\n",
       "│ embedding (<span style=\"color: #0087ff; text-decoration-color: #0087ff\">Embedding</span>)           │ (<span style=\"color: #00af00; text-decoration-color: #00af00\">32</span>, <span style=\"color: #00af00; text-decoration-color: #00af00\">500</span>, <span style=\"color: #00af00; text-decoration-color: #00af00\">128</span>)         │     <span style=\"color: #00af00; text-decoration-color: #00af00\">1,280,000</span> │\n",
       "├─────────────────────────────────┼────────────────────────┼───────────────┤\n",
       "│ simple_rnn (<span style=\"color: #0087ff; text-decoration-color: #0087ff\">SimpleRNN</span>)          │ (<span style=\"color: #00af00; text-decoration-color: #00af00\">32</span>, <span style=\"color: #00af00; text-decoration-color: #00af00\">128</span>)              │        <span style=\"color: #00af00; text-decoration-color: #00af00\">32,896</span> │\n",
       "├─────────────────────────────────┼────────────────────────┼───────────────┤\n",
       "│ dense (<span style=\"color: #0087ff; text-decoration-color: #0087ff\">Dense</span>)                   │ (<span style=\"color: #00af00; text-decoration-color: #00af00\">32</span>, <span style=\"color: #00af00; text-decoration-color: #00af00\">1</span>)                │           <span style=\"color: #00af00; text-decoration-color: #00af00\">129</span> │\n",
       "└─────────────────────────────────┴────────────────────────┴───────────────┘\n",
       "</pre>\n"
      ],
      "text/plain": [
       "┏━━━━━━━━━━━━━━━━━━━━━━━━━━━━━━━━━┳━━━━━━━━━━━━━━━━━━━━━━━━┳━━━━━━━━━━━━━━━┓\n",
       "┃\u001b[1m \u001b[0m\u001b[1mLayer (type)                   \u001b[0m\u001b[1m \u001b[0m┃\u001b[1m \u001b[0m\u001b[1mOutput Shape          \u001b[0m\u001b[1m \u001b[0m┃\u001b[1m \u001b[0m\u001b[1m      Param #\u001b[0m\u001b[1m \u001b[0m┃\n",
       "┡━━━━━━━━━━━━━━━━━━━━━━━━━━━━━━━━━╇━━━━━━━━━━━━━━━━━━━━━━━━╇━━━━━━━━━━━━━━━┩\n",
       "│ embedding (\u001b[38;5;33mEmbedding\u001b[0m)           │ (\u001b[38;5;34m32\u001b[0m, \u001b[38;5;34m500\u001b[0m, \u001b[38;5;34m128\u001b[0m)         │     \u001b[38;5;34m1,280,000\u001b[0m │\n",
       "├─────────────────────────────────┼────────────────────────┼───────────────┤\n",
       "│ simple_rnn (\u001b[38;5;33mSimpleRNN\u001b[0m)          │ (\u001b[38;5;34m32\u001b[0m, \u001b[38;5;34m128\u001b[0m)              │        \u001b[38;5;34m32,896\u001b[0m │\n",
       "├─────────────────────────────────┼────────────────────────┼───────────────┤\n",
       "│ dense (\u001b[38;5;33mDense\u001b[0m)                   │ (\u001b[38;5;34m32\u001b[0m, \u001b[38;5;34m1\u001b[0m)                │           \u001b[38;5;34m129\u001b[0m │\n",
       "└─────────────────────────────────┴────────────────────────┴───────────────┘\n"
      ]
     },
     "metadata": {},
     "output_type": "display_data"
    },
    {
     "data": {
      "text/html": [
       "<pre style=\"white-space:pre;overflow-x:auto;line-height:normal;font-family:Menlo,'DejaVu Sans Mono',consolas,'Courier New',monospace\"><span style=\"font-weight: bold\"> Total params: </span><span style=\"color: #00af00; text-decoration-color: #00af00\">1,313,027</span> (5.01 MB)\n",
       "</pre>\n"
      ],
      "text/plain": [
       "\u001b[1m Total params: \u001b[0m\u001b[38;5;34m1,313,027\u001b[0m (5.01 MB)\n"
      ]
     },
     "metadata": {},
     "output_type": "display_data"
    },
    {
     "data": {
      "text/html": [
       "<pre style=\"white-space:pre;overflow-x:auto;line-height:normal;font-family:Menlo,'DejaVu Sans Mono',consolas,'Courier New',monospace\"><span style=\"font-weight: bold\"> Trainable params: </span><span style=\"color: #00af00; text-decoration-color: #00af00\">1,313,025</span> (5.01 MB)\n",
       "</pre>\n"
      ],
      "text/plain": [
       "\u001b[1m Trainable params: \u001b[0m\u001b[38;5;34m1,313,025\u001b[0m (5.01 MB)\n"
      ]
     },
     "metadata": {},
     "output_type": "display_data"
    },
    {
     "data": {
      "text/html": [
       "<pre style=\"white-space:pre;overflow-x:auto;line-height:normal;font-family:Menlo,'DejaVu Sans Mono',consolas,'Courier New',monospace\"><span style=\"font-weight: bold\"> Non-trainable params: </span><span style=\"color: #00af00; text-decoration-color: #00af00\">0</span> (0.00 B)\n",
       "</pre>\n"
      ],
      "text/plain": [
       "\u001b[1m Non-trainable params: \u001b[0m\u001b[38;5;34m0\u001b[0m (0.00 B)\n"
      ]
     },
     "metadata": {},
     "output_type": "display_data"
    },
    {
     "data": {
      "text/html": [
       "<pre style=\"white-space:pre;overflow-x:auto;line-height:normal;font-family:Menlo,'DejaVu Sans Mono',consolas,'Courier New',monospace\"><span style=\"font-weight: bold\"> Optimizer params: </span><span style=\"color: #00af00; text-decoration-color: #00af00\">2</span> (12.00 B)\n",
       "</pre>\n"
      ],
      "text/plain": [
       "\u001b[1m Optimizer params: \u001b[0m\u001b[38;5;34m2\u001b[0m (12.00 B)\n"
      ]
     },
     "metadata": {},
     "output_type": "display_data"
    }
   ],
   "source": [
    "# Load the pre-trained model with ReLU activation\n",
    "model = load_model('simple_rnn_imdb.h5')\n",
    "model.summary()"
   ]
  },
  {
   "cell_type": "code",
   "execution_count": 4,
   "metadata": {},
   "outputs": [
    {
     "data": {
      "text/plain": [
       "[array([[ 0.05865297, -0.01690169,  0.02356987, ...,  0.06488214,\n",
       "          0.01418098, -0.00802916],\n",
       "        [-0.03907345, -0.00700058,  0.0402836 , ...,  0.02465914,\n",
       "          0.03356005,  0.02937428],\n",
       "        [ 0.0261677 ,  0.03787469,  0.00795383, ...,  0.03207268,\n",
       "          0.02651225, -0.02336852],\n",
       "        ...,\n",
       "        [-0.03284772, -0.07983726,  0.05652462, ...,  0.00500052,\n",
       "          0.04168564,  0.02345653],\n",
       "        [-0.05442122, -0.09742398,  0.03333727, ..., -0.06014154,\n",
       "         -0.1069702 , -0.02197185],\n",
       "        [ 0.03331444,  0.032464  ,  0.01101951, ..., -0.06558748,\n",
       "          0.02283254, -0.05059679]], dtype=float32),\n",
       " array([[-0.09995531, -0.08274391,  0.15375787, ...,  0.02730777,\n",
       "          0.11674225,  0.05110572],\n",
       "        [ 0.01479337,  0.10402058, -0.07809961, ..., -0.12643135,\n",
       "          0.11155535, -0.09616436],\n",
       "        [ 0.01119911, -0.10754421,  0.04177126, ..., -0.10552508,\n",
       "          0.04062174,  0.16408756],\n",
       "        ...,\n",
       "        [ 0.13632713, -0.1704453 , -0.09980553, ..., -0.08493571,\n",
       "          0.11521662,  0.01138837],\n",
       "        [-0.0421608 ,  0.04400998, -0.10680307, ...,  0.07550716,\n",
       "          0.05052958,  0.01801481],\n",
       "        [-0.12712616, -0.03982777,  0.00387791, ..., -0.02789027,\n",
       "         -0.04716359,  0.14001085]], dtype=float32),\n",
       " array([[-0.22174922,  0.00245225, -0.01423141, ...,  0.14522451,\n",
       "         -0.01122889, -0.07376401],\n",
       "        [-0.11853376, -0.02789819,  0.04792448, ..., -0.15064062,\n",
       "         -0.03738225, -0.02858466],\n",
       "        [-0.03742689,  0.06914519,  0.02025591, ..., -0.13530146,\n",
       "         -0.07454149,  0.03111908],\n",
       "        ...,\n",
       "        [-0.04681352, -0.01056187, -0.17514794, ...,  0.01326918,\n",
       "          0.029141  , -0.1081842 ],\n",
       "        [ 0.08773232,  0.04971162, -0.14546357, ...,  0.15328448,\n",
       "         -0.00091957,  0.01850026],\n",
       "        [ 0.0700909 ,  0.02841206, -0.0150772 , ...,  0.00755537,\n",
       "         -0.0164172 , -0.1301581 ]], dtype=float32),\n",
       " array([ 2.42256392e-02, -1.98755935e-02,  9.68804490e-03, -1.24817817e-02,\n",
       "        -1.86621640e-02, -6.08068006e-03,  2.12228168e-02,  3.04101948e-02,\n",
       "         3.96516593e-03, -2.14869175e-02,  1.78165082e-02,  2.15367507e-02,\n",
       "         7.25696934e-03, -8.79057869e-03, -1.15051903e-02,  1.93169285e-02,\n",
       "         6.99764630e-03,  8.03065486e-03, -1.15646133e-02, -1.03448862e-02,\n",
       "         7.54205370e-03,  2.25734636e-02, -7.48383533e-03,  2.45683454e-03,\n",
       "        -1.70541892e-03, -3.40334885e-03,  1.50501225e-02,  7.43091255e-02,\n",
       "         1.52622536e-03, -1.08167650e-02,  1.06478622e-03,  7.72157982e-02,\n",
       "         8.56303796e-03, -1.68249700e-02,  1.20262986e-04,  1.42968819e-03,\n",
       "         3.02000856e-03, -1.09802373e-02, -9.51964036e-03, -1.74937602e-02,\n",
       "         2.13859472e-02,  1.31818783e-02, -6.00807322e-03,  8.98649916e-02,\n",
       "        -2.34594825e-03,  1.73075416e-03,  2.35691248e-03,  2.05882192e-02,\n",
       "        -8.06850009e-03,  2.64028292e-02, -2.18467927e-03,  2.19258517e-02,\n",
       "        -1.73676417e-05,  2.49897204e-02, -5.13813598e-03,  2.41038240e-02,\n",
       "         1.15190139e-02, -9.85244941e-03, -1.47467926e-02,  1.62819643e-02,\n",
       "        -7.25689763e-03,  7.24555878e-03,  2.15534726e-03, -1.34699577e-02,\n",
       "         3.02072596e-02,  5.02510741e-03, -1.71877127e-02, -6.94146985e-03,\n",
       "        -9.21630487e-03,  2.58477647e-02,  3.04322746e-02,  2.06230897e-02,\n",
       "         2.01551784e-02,  1.26039423e-02, -5.08553814e-04, -1.23644518e-02,\n",
       "        -1.23229204e-02, -1.14323609e-02,  5.39455609e-03, -9.52533726e-03,\n",
       "         9.05192643e-03,  2.11155927e-03, -1.08007714e-02, -3.35603068e-03,\n",
       "        -6.46000588e-03,  2.04071254e-02, -1.15645500e-02,  1.27678150e-02,\n",
       "        -2.40793196e-03,  1.69829708e-02, -4.28484287e-03,  1.34994658e-02,\n",
       "        -5.70727221e-04, -8.99661239e-03, -1.26700420e-02, -1.68883447e-02,\n",
       "        -1.35625573e-02, -4.79095336e-03,  1.14233736e-02,  1.63906766e-03,\n",
       "         9.39665455e-03, -1.72342546e-02, -7.13067316e-03, -2.54424922e-02,\n",
       "        -7.44982623e-03, -1.11723142e-02, -1.95373152e-03,  1.77214260e-03,\n",
       "        -1.97019172e-03, -4.78390278e-03,  2.22255534e-04, -1.08498856e-02,\n",
       "        -3.94885801e-03, -1.15774209e-02,  7.02082599e-03, -1.23322206e-02,\n",
       "         1.28565049e-02, -6.92089088e-04, -9.22306255e-03,  2.62032021e-02,\n",
       "         5.06153284e-03, -7.66158570e-03,  1.83444917e-02,  1.79763138e-02,\n",
       "         7.38388905e-03,  6.26182463e-03,  4.47924482e-03, -1.59012955e-02],\n",
       "       dtype=float32),\n",
       " array([[ 0.03322866],\n",
       "        [-0.19943291],\n",
       "        [ 0.09502942],\n",
       "        [-0.13341498],\n",
       "        [ 0.17506897],\n",
       "        [-0.01835367],\n",
       "        [ 0.2027148 ],\n",
       "        [ 0.1044488 ],\n",
       "        [-0.04027958],\n",
       "        [ 0.1187955 ],\n",
       "        [ 0.04792813],\n",
       "        [ 0.03884019],\n",
       "        [-0.15763488],\n",
       "        [ 0.33609894],\n",
       "        [ 0.08120446],\n",
       "        [ 0.20778112],\n",
       "        [-0.03999049],\n",
       "        [ 0.03600308],\n",
       "        [ 0.02771103],\n",
       "        [-0.00337961],\n",
       "        [ 0.14689092],\n",
       "        [ 0.10012473],\n",
       "        [-0.04006443],\n",
       "        [-0.04499697],\n",
       "        [-0.48274153],\n",
       "        [-0.21607395],\n",
       "        [ 0.45327628],\n",
       "        [-0.15501837],\n",
       "        [ 0.13818038],\n",
       "        [ 0.01108052],\n",
       "        [-0.03437481],\n",
       "        [-0.16300201],\n",
       "        [ 0.20921722],\n",
       "        [-0.3330423 ],\n",
       "        [ 0.06891613],\n",
       "        [ 0.22130525],\n",
       "        [ 0.04190453],\n",
       "        [ 0.05918959],\n",
       "        [-0.11988664],\n",
       "        [ 0.32366917],\n",
       "        [ 0.31338876],\n",
       "        [ 0.24660617],\n",
       "        [-0.03116976],\n",
       "        [-0.32493946],\n",
       "        [ 0.07257518],\n",
       "        [-0.44759914],\n",
       "        [ 0.13044223],\n",
       "        [ 0.09796433],\n",
       "        [-0.1001823 ],\n",
       "        [ 0.02145762],\n",
       "        [-0.13493381],\n",
       "        [ 0.10187882],\n",
       "        [ 0.01368068],\n",
       "        [ 0.2655065 ],\n",
       "        [-0.21331242],\n",
       "        [ 0.02399947],\n",
       "        [-0.12555523],\n",
       "        [-0.02214599],\n",
       "        [ 0.15679446],\n",
       "        [-0.04795843],\n",
       "        [-0.2170777 ],\n",
       "        [-0.02333329],\n",
       "        [ 0.01398675],\n",
       "        [-0.1592351 ],\n",
       "        [ 0.35790318],\n",
       "        [ 0.15191431],\n",
       "        [-0.18089616],\n",
       "        [-0.19977663],\n",
       "        [-0.12131089],\n",
       "        [ 0.15881166],\n",
       "        [ 0.30510685],\n",
       "        [ 0.16279031],\n",
       "        [ 0.21870399],\n",
       "        [-0.35362545],\n",
       "        [-0.1353697 ],\n",
       "        [ 0.12049299],\n",
       "        [-0.07951948],\n",
       "        [-0.11678419],\n",
       "        [-0.07461984],\n",
       "        [-0.4465358 ],\n",
       "        [ 0.30961096],\n",
       "        [ 0.08910872],\n",
       "        [-0.21129818],\n",
       "        [ 0.1054708 ],\n",
       "        [-0.3859001 ],\n",
       "        [ 0.25487745],\n",
       "        [ 0.00633814],\n",
       "        [ 0.2772747 ],\n",
       "        [ 0.14734644],\n",
       "        [ 0.35881156],\n",
       "        [-0.0657788 ],\n",
       "        [-0.06047824],\n",
       "        [-0.19833879],\n",
       "        [-0.22421488],\n",
       "        [-0.10441101],\n",
       "        [-0.1369719 ],\n",
       "        [-0.1588806 ],\n",
       "        [ 0.17110397],\n",
       "        [-0.00191336],\n",
       "        [ 0.09018374],\n",
       "        [ 0.16269538],\n",
       "        [-0.12073845],\n",
       "        [-0.1905991 ],\n",
       "        [-0.17990203],\n",
       "        [-0.10781121],\n",
       "        [ 0.04904442],\n",
       "        [-0.07854975],\n",
       "        [ 0.18550587],\n",
       "        [ 0.237871  ],\n",
       "        [-0.11654994],\n",
       "        [ 0.01179334],\n",
       "        [ 0.00343498],\n",
       "        [ 0.04806251],\n",
       "        [ 0.09767717],\n",
       "        [-0.588039  ],\n",
       "        [ 0.02738054],\n",
       "        [ 0.17818618],\n",
       "        [ 0.17272525],\n",
       "        [-0.14148676],\n",
       "        [ 0.1392414 ],\n",
       "        [-0.1569236 ],\n",
       "        [ 0.04960183],\n",
       "        [ 0.12634093],\n",
       "        [-0.05243039],\n",
       "        [-0.0576396 ],\n",
       "        [ 0.05401647],\n",
       "        [-0.12521431],\n",
       "        [-0.16452292]], dtype=float32),\n",
       " array([-0.03764524], dtype=float32)]"
      ]
     },
     "execution_count": 4,
     "metadata": {},
     "output_type": "execute_result"
    }
   ],
   "source": [
    "model.get_weights()"
   ]
  },
  {
   "cell_type": "code",
   "execution_count": 5,
   "metadata": {},
   "outputs": [],
   "source": [
    "# Step 2: Helper Functions\n",
    "# Function to decode reviews\n",
    "def decode_review(encoded_review):\n",
    "    return ' '.join([reverse_word_index.get(i - 3, '?') for i in encoded_review])\n",
    "\n",
    "# Function to preprocess user input\n",
    "def preprocess_text(text):\n",
    "    words = text.lower().split()\n",
    "    encoded_review = [word_index.get(word, 2) + 3 for word in words]\n",
    "    padded_review = sequence.pad_sequences([encoded_review], maxlen=500)\n",
    "    return padded_review"
   ]
  },
  {
   "cell_type": "code",
   "execution_count": 6,
   "metadata": {},
   "outputs": [],
   "source": [
    "### Prediction  function\n",
    "\n",
    "def predict_sentiment(review):\n",
    "    preprocessed_input=preprocess_text(review)\n",
    "\n",
    "    prediction=model.predict(preprocessed_input)\n",
    "\n",
    "    sentiment = 'Positive' if prediction[0][0] > 0.5 else 'Negative'\n",
    "    \n",
    "    return sentiment, prediction[0][0]\n",
    "\n"
   ]
  },
  {
   "cell_type": "code",
   "execution_count": 10,
   "metadata": {},
   "outputs": [
    {
     "name": "stdout",
     "output_type": "stream",
     "text": [
      "\u001b[1m1/1\u001b[0m \u001b[32m━━━━━━━━━━━━━━━━━━━━\u001b[0m\u001b[37m\u001b[0m \u001b[1m0s\u001b[0m 40ms/step\n",
      "Review: This movie was fantastic! The acting was great and the plot was thrilling.\n",
      "Sentiment: Positive\n",
      "Prediction Score: 0.5085467100143433\n"
     ]
    }
   ],
   "source": [
    "# Step 4: User Input and Prediction\n",
    "# Example review for prediction\n",
    "example_review = \"This movie was fantastic! The acting was great and the plot was thrilling.\"\n",
    "\n",
    "sentiment,score=predict_sentiment(example_review)\n",
    "\n",
    "print(f'Review: {example_review}')\n",
    "print(f'Sentiment: {sentiment}')\n",
    "print(f'Prediction Score: {score}')"
   ]
  },
  {
   "cell_type": "code",
   "execution_count": null,
   "metadata": {},
   "outputs": [],
   "source": []
  },
  {
   "cell_type": "code",
   "execution_count": null,
   "metadata": {},
   "outputs": [],
   "source": []
  },
  {
   "cell_type": "code",
   "execution_count": null,
   "metadata": {},
   "outputs": [],
   "source": []
  },
  {
   "cell_type": "code",
   "execution_count": null,
   "metadata": {},
   "outputs": [],
   "source": []
  }
 ],
 "metadata": {
  "kernelspec": {
   "display_name": "venv",
   "language": "python",
   "name": "python3"
  },
  "language_info": {
   "codemirror_mode": {
    "name": "ipython",
    "version": 3
   },
   "file_extension": ".py",
   "mimetype": "text/x-python",
   "name": "python",
   "nbconvert_exporter": "python",
   "pygments_lexer": "ipython3",
   "version": "3.12.0"
  }
 },
 "nbformat": 4,
 "nbformat_minor": 2
}
